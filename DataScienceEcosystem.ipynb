{
 "cells": [
  {
   "cell_type": "markdown",
   "id": "9941ce03-e821-4b34-89df-68b4101cf19d",
   "metadata": {},
   "source": [
    "# Data Science Tools and Ecosystem"
   ]
  },
  {
   "cell_type": "markdown",
   "id": "b48116a4-96c2-45a3-8a18-cf35062decc7",
   "metadata": {},
   "source": [
    "In this notebook, Data Science Tools and Ecosystem are summarized."
   ]
  },
  {
   "cell_type": "markdown",
   "id": "463155e2-6623-4fb8-91e6-e30ebe7f1e34",
   "metadata": {},
   "source": [
    "**Objectives:**\n",
    "* Create markdown cell with title of the notebook\n",
    "* Create a table with popular Data Science tools\n",
    "* list popular Data Science libraries\n",
    "* List popular languages for Data Science\n",
    "* Convert minutes to hours"
   ]
  },
  {
   "cell_type": "markdown",
   "id": "9b15cbeb-4d30-4c9a-ae03-217878b99e22",
   "metadata": {},
   "source": [
    "Some of the popular languages that Data Scientists use are:\n",
    "1. Python\n",
    "2. R\n",
    "3. Scala"
   ]
  },
  {
   "cell_type": "markdown",
   "id": "fdc6f3d2-3c79-458e-aa5d-20f8ad7fd74f",
   "metadata": {},
   "source": [
    "Some of the commonly used libraries used by Data Scientists include:\n",
    "1. NumPy\n",
    "2. SciPy\n",
    "3. Pandas\n",
    "4. Scrapy"
   ]
  },
  {
   "cell_type": "markdown",
   "id": "3f82a8c1-2d22-4c06-830a-ca318cf97f86",
   "metadata": {},
   "source": [
    "|Data Science Tools|\n",
    "|:--:|\n",
    "|Jupyter Notebook|\n",
    "|Spyder|\n",
    "|R Studio|\n"
   ]
  },
  {
   "cell_type": "markdown",
   "id": "6f6dcf51-06ee-44a6-8af6-1f45a47b5b60",
   "metadata": {},
   "source": [
    "### Below are a few examples of evaluating arithmetic expressions in Python\n"
   ]
  },
  {
   "cell_type": "code",
   "execution_count": 3,
   "id": "a14fec4b-9bdc-4486-8625-e569e9378c31",
   "metadata": {},
   "outputs": [
    {
     "data": {
      "text/plain": [
       "17"
      ]
     },
     "execution_count": 3,
     "metadata": {},
     "output_type": "execute_result"
    }
   ],
   "source": [
    "# This a simple arithmetic expression to mutiply then add integers\n",
    "(3*4)+5"
   ]
  },
  {
   "cell_type": "code",
   "execution_count": 4,
   "id": "730fbaa3-6788-4bb1-b04f-f47426aeddf4",
   "metadata": {},
   "outputs": [
    {
     "data": {
      "text/plain": [
       "3.3333333333333335"
      ]
     },
     "execution_count": 4,
     "metadata": {},
     "output_type": "execute_result"
    }
   ],
   "source": [
    "# This will convert 200 minutes to hours by diving by 60\n",
    "200/60"
   ]
  },
  {
   "cell_type": "markdown",
   "id": "ef47e35e-945e-4bc9-9bb6-16951ead08f5",
   "metadata": {},
   "source": [
    "## Author\n",
    "Chantelle Matema"
   ]
  },
  {
   "cell_type": "code",
   "execution_count": null,
   "id": "8f1a858a-706c-419c-bdb3-8e7b83ab3b0c",
   "metadata": {},
   "outputs": [],
   "source": []
  }
 ],
 "metadata": {
  "kernelspec": {
   "display_name": "Python 3 (ipykernel)",
   "language": "python",
   "name": "python3"
  },
  "language_info": {
   "codemirror_mode": {
    "name": "ipython",
    "version": 3
   },
   "file_extension": ".py",
   "mimetype": "text/x-python",
   "name": "python",
   "nbconvert_exporter": "python",
   "pygments_lexer": "ipython3",
   "version": "3.11.7"
  }
 },
 "nbformat": 4,
 "nbformat_minor": 5
}
